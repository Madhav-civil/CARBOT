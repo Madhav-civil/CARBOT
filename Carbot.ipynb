{
  "cells": [
    {
      "cell_type": "markdown",
      "metadata": {
        "id": "view-in-github",
        "colab_type": "text"
      },
      "source": [
        "<a href=\"https://colab.research.google.com/github/Madhav-civil/CARBOT/blob/main/Carbot.ipynb\" target=\"_parent\"><img src=\"https://colab.research.google.com/assets/colab-badge.svg\" alt=\"Open In Colab\"/></a>"
      ]
    },
    {
      "cell_type": "code",
      "execution_count": null,
      "metadata": {
        "colab": {
          "background_save": true,
          "base_uri": "https://localhost:8080/",
          "referenced_widgets": [
            "2ad2a33dad77460599915a0e073e89b5",
            "515b4b1c17974bb0a7cd73351c1826f0",
            "07f695cd14834eaea89f293fd582a96f",
            "a7bd5888dfbe4ff6bc0052a42550f728",
            "40440d5b449648c780c2de785aa8be0c",
            "de32d9298dd347b9bf05128d5cb7721c",
            "3af546f9fd3042ed88e47d0a8292c2e3",
            "ce8ae561c3864d90a7a1081283ad9ea6",
            "8f85ac73d8d84b12a7218244ab0f35ab",
            "b34a1ceea2bf4189aaf74c577dcd0a76",
            "7efd42b704be41118c7a45757ef3668e"
          ]
        },
        "id": "Oj0ZNQSbayLV",
        "outputId": "9b6fc3d7-0351-4e6b-ef2a-744ba2f2e916"
      },
      "outputs": [
        {
          "name": "stderr",
          "output_type": "stream",
          "text": [
            "/usr/local/lib/python3.11/dist-packages/huggingface_hub/utils/_auth.py:94: UserWarning: \n",
            "The secret `HF_TOKEN` does not exist in your Colab secrets.\n",
            "To authenticate with the Hugging Face Hub, create a token in your settings tab (https://huggingface.co/settings/tokens), set it as secret in your Google Colab and restart your session.\n",
            "You will be able to reuse this secret in all of your notebooks.\n",
            "Please note that authentication is recommended but still optional to access public models or datasets.\n",
            "  warnings.warn(\n"
          ]
        },
        {
          "data": {
            "application/vnd.jupyter.widget-view+json": {
              "model_id": "2ad2a33dad77460599915a0e073e89b5",
              "version_major": 2,
              "version_minor": 0
            },
            "text/plain": [
              "modules.json:   0%|          | 0.00/349 [00:00<?, ?B/s]"
            ]
          },
          "metadata": {},
          "output_type": "display_data"
        },
        {
          "data": {
            "application/vnd.jupyter.widget-view+json": {
              "model_id": "515b4b1c17974bb0a7cd73351c1826f0",
              "version_major": 2,
              "version_minor": 0
            },
            "text/plain": [
              "config_sentence_transformers.json:   0%|          | 0.00/116 [00:00<?, ?B/s]"
            ]
          },
          "metadata": {},
          "output_type": "display_data"
        },
        {
          "data": {
            "application/vnd.jupyter.widget-view+json": {
              "model_id": "07f695cd14834eaea89f293fd582a96f",
              "version_major": 2,
              "version_minor": 0
            },
            "text/plain": [
              "README.md:   0%|          | 0.00/10.5k [00:00<?, ?B/s]"
            ]
          },
          "metadata": {},
          "output_type": "display_data"
        },
        {
          "data": {
            "application/vnd.jupyter.widget-view+json": {
              "model_id": "a7bd5888dfbe4ff6bc0052a42550f728",
              "version_major": 2,
              "version_minor": 0
            },
            "text/plain": [
              "sentence_bert_config.json:   0%|          | 0.00/53.0 [00:00<?, ?B/s]"
            ]
          },
          "metadata": {},
          "output_type": "display_data"
        },
        {
          "data": {
            "application/vnd.jupyter.widget-view+json": {
              "model_id": "40440d5b449648c780c2de785aa8be0c",
              "version_major": 2,
              "version_minor": 0
            },
            "text/plain": [
              "config.json:   0%|          | 0.00/612 [00:00<?, ?B/s]"
            ]
          },
          "metadata": {},
          "output_type": "display_data"
        },
        {
          "name": "stderr",
          "output_type": "stream",
          "text": [
            "Xet Storage is enabled for this repo, but the 'hf_xet' package is not installed. Falling back to regular HTTP download. For better performance, install the package with: `pip install huggingface_hub[hf_xet]` or `pip install hf_xet`\n",
            "WARNING:huggingface_hub.file_download:Xet Storage is enabled for this repo, but the 'hf_xet' package is not installed. Falling back to regular HTTP download. For better performance, install the package with: `pip install huggingface_hub[hf_xet]` or `pip install hf_xet`\n"
          ]
        },
        {
          "data": {
            "application/vnd.jupyter.widget-view+json": {
              "model_id": "de32d9298dd347b9bf05128d5cb7721c",
              "version_major": 2,
              "version_minor": 0
            },
            "text/plain": [
              "model.safetensors:   0%|          | 0.00/90.9M [00:00<?, ?B/s]"
            ]
          },
          "metadata": {},
          "output_type": "display_data"
        },
        {
          "data": {
            "application/vnd.jupyter.widget-view+json": {
              "model_id": "3af546f9fd3042ed88e47d0a8292c2e3",
              "version_major": 2,
              "version_minor": 0
            },
            "text/plain": [
              "tokenizer_config.json:   0%|          | 0.00/350 [00:00<?, ?B/s]"
            ]
          },
          "metadata": {},
          "output_type": "display_data"
        },
        {
          "data": {
            "application/vnd.jupyter.widget-view+json": {
              "model_id": "ce8ae561c3864d90a7a1081283ad9ea6",
              "version_major": 2,
              "version_minor": 0
            },
            "text/plain": [
              "vocab.txt:   0%|          | 0.00/232k [00:00<?, ?B/s]"
            ]
          },
          "metadata": {},
          "output_type": "display_data"
        },
        {
          "data": {
            "application/vnd.jupyter.widget-view+json": {
              "model_id": "8f85ac73d8d84b12a7218244ab0f35ab",
              "version_major": 2,
              "version_minor": 0
            },
            "text/plain": [
              "tokenizer.json:   0%|          | 0.00/466k [00:00<?, ?B/s]"
            ]
          },
          "metadata": {},
          "output_type": "display_data"
        },
        {
          "data": {
            "application/vnd.jupyter.widget-view+json": {
              "model_id": "b34a1ceea2bf4189aaf74c577dcd0a76",
              "version_major": 2,
              "version_minor": 0
            },
            "text/plain": [
              "special_tokens_map.json:   0%|          | 0.00/112 [00:00<?, ?B/s]"
            ]
          },
          "metadata": {},
          "output_type": "display_data"
        },
        {
          "data": {
            "application/vnd.jupyter.widget-view+json": {
              "model_id": "7efd42b704be41118c7a45757ef3668e",
              "version_major": 2,
              "version_minor": 0
            },
            "text/plain": [
              "config.json:   0%|          | 0.00/190 [00:00<?, ?B/s]"
            ]
          },
          "metadata": {},
          "output_type": "display_data"
        },
        {
          "name": "stdout",
          "output_type": "stream",
          "text": [
            "CarBot: Hello! I'm your car mechanic bot. Ask me a question or type 'exit' to leave.\n",
            "CarBot: That usually means your battery is weak or dead, or your starter motor might be faulty.\n"
          ]
        }
      ],
      "source": [
        "from sentence_transformers import SentenceTransformer, util\n",
        "import torch\n",
        "\n",
        "# Static Q&A data\n",
        "car_data = {\n",
        "    \"hi\":\n",
        "    \"hello. what do you want to ask?\",\n",
        "    \"Why does my car make a clicking noise when I turn the key?\":\n",
        "        \"That usually means your battery is weak or dead, or your starter motor might be faulty.\",\n",
        "    \"What is the right tire pressure for my car?\":\n",
        "        \"Check your car's manual or the sticker on the driver's door. It's usually between 30-35 PSI.\",\n",
        "    \"How can I improve my car's fuel efficiency?\":\n",
        "        \"Maintain proper tire pressure, avoid aggressive driving, keep up with regular servicing, and remove unnecessary weight from your car.\",\n",
        "    \"Why is smoke coming from my exhaust?\":\n",
        "        \"Blue smoke may indicate burning oil, white could be coolant, and black could mean too much fuel. It's best to get it checked.\",\n",
        "    \"Why does my car vibrate when driving?\":\n",
        "        \"This could be due to unbalanced tires, worn suspension, or brake issues.\",\n",
        "    \"How do I know if my transmission is failing?\":\n",
        "        \"Signs include delayed shifting, strange noises, leaking fluid, or the car not moving when in gear.\",\n",
        "    \"When should I change my air filter?\":\n",
        "        \"Generally every 12,000 to 15,000 miles, or if it's visibly dirty.\",\n",
        "    \"What causes a burning smell from my car?\":\n",
        "        \"It could be from overheating brakes, clutch, or electrical issues. Stop driving and get it inspected.\",\n",
        "    \"Why is my AC not cooling properly?\":\n",
        "        \"It might be low on refrigerant, have a blocked filter, or a faulty compressor.\",\n",
        "    \"What should I do if my car gets flooded?\":\n",
        "        \"Do not start the car. Disconnect the battery and call a mechanic immediately. Water damage can ruin the engine and electronics.\",\n",
        "    \"Why does my car pull to one side while driving?\":\n",
        "        \"This could be due to poor wheel alignment, uneven tire pressure, or a stuck brake caliper.\",\n",
        "    \"How often should I rotate my tires?\":\n",
        "        \"Every 5,000 to 8,000 miles, or during every oil change.\",\n",
        "    \"How can I tell if my alternator is failing?\":\n",
        "        \"Dimming lights, weak battery, and warning lights on your dashboard are signs of alternator trouble.\",\n",
        "    \"What is a serpentine belt?\":\n",
        "        \"It's a long rubber belt that powers engine accessories like the alternator, AC, and power steering pump. If it breaks, the car may stop running.\",\n",
        "    \"Can I drive with the check engine light on?\":\n",
        "        \"If it's steady and the car runs fine, it's usually safe short-term. But if it's flashing, stop driving and get it checked immediately.\"\n",
        "}\n",
        "\n",
        "# Load model\n",
        "model = SentenceTransformer('all-MiniLM-L6-v2')  # Lightweight and fast\n",
        "\n",
        "# Preprocess and encode all stored questions\n",
        "questions = list(car_data.keys())\n",
        "answers = list(car_data.values())\n",
        "question_embeddings = model.encode(questions, convert_to_tensor=True)\n",
        "\n",
        "def chatbot_response(user_query):\n",
        "    query_embedding = model.encode(user_query, convert_to_tensor=True)\n",
        "    similarity_scores = util.pytorch_cos_sim(query_embedding, question_embeddings)[0]\n",
        "    best_match_idx = torch.argmax(similarity_scores).item()\n",
        "    best_score = similarity_scores[best_match_idx].item()\n",
        "\n",
        "    if best_score > 0.5:  # Adjustable threshold\n",
        "        return answers[best_match_idx]\n",
        "    else:\n",
        "        return \"I'm sorry, I don't have information on that topic. Please consult a certified mechanic.\"\n",
        "\n",
        "# Main loop\n",
        "def run_chatbot():\n",
        "    print(\"CarBot: Hello! I'm your car mechanic bot. Ask me a question or type 'exit' to leave.\")\n",
        "    while True:\n",
        "        user_input = input(\"You: \")\n",
        "        if user_input.lower() == \"exit\":\n",
        "            print(\"CarBot: Thank you.\")\n",
        "            break\n",
        "        response = chatbot_response(user_input)\n",
        "        print(\"CarBot:\", response)\n",
        "\n",
        "# Run the bot\n",
        "run_chatbot()"
      ]
    }
  ],
  "metadata": {
    "colab": {
      "provenance": [],
      "include_colab_link": true
    },
    "kernelspec": {
      "display_name": "Python 3",
      "name": "python3"
    },
    "language_info": {
      "name": "python"
    }
  },
  "nbformat": 4,
  "nbformat_minor": 0
}